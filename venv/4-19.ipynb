{
 "cells": [
  {
   "cell_type": "code",
   "execution_count": 3,
   "metadata": {},
   "outputs": [],
   "source": [
    "import numpy as np\n",
    "import scipy as sp\n",
    "alg=np.linalg\n",
    "import matplotlib.pyplot as plt"
   ]
  },
  {
   "cell_type": "code",
   "execution_count": 41,
   "metadata": {},
   "outputs": [
    {
     "name": "stdout",
     "output_type": "stream",
     "text": [
      "[4.00 , 6.41 , 8.01 , 8.79 , 9.53 , 9.86 , 10.33 , 10.42 , 10.53 , 10.61]\n"
     ]
    }
   ],
   "source": [
    "t=np.array([1,2,3,4,6,8,10,12,14,16])\n",
    "y=np.array([4,6.41,8.01,8.79,9.53,9.86,10.33,10.42,10.53,10.61])\n",
    "print(\"[%s]\"%(' , '.join([\"%.2f\"%(a) for a in y])))"
   ]
  },
  {
   "cell_type": "code",
   "execution_count": 51,
   "metadata": {},
   "outputs": [],
   "source": [
    "xi=1/t\n",
    "zi=1/y\n",
    "wi=y**4"
   ]
  },
  {
   "cell_type": "code",
   "execution_count": 52,
   "metadata": {},
   "outputs": [
    {
     "data": {
      "text/plain": [
       "array([[77873.25370279, 10312.21525204],\n",
       "       [10312.21525204,  2193.32709379]])"
      ]
     },
     "execution_count": 52,
     "metadata": {},
     "output_type": "execute_result"
    }
   ],
   "source": [
    "g11=wi.sum()\n",
    "g12=wi.dot(xi)\n",
    "g22=wi.dot(xi*xi)\n",
    "G=np.array([[g11,g12],[g12,g22]])\n",
    "G"
   ]
  },
  {
   "cell_type": "code",
   "execution_count": 53,
   "metadata": {},
   "outputs": [
    {
     "data": {
      "text/plain": [
       "array([7940.191877  , 1163.41815886])"
      ]
     },
     "execution_count": 53,
     "metadata": {},
     "output_type": "execute_result"
    }
   ],
   "source": [
    "d=np.array([wi.dot(zi),wi.dot(zi*xi)])\n",
    "d"
   ]
  },
  {
   "cell_type": "code",
   "execution_count": 54,
   "metadata": {},
   "outputs": [
    {
     "data": {
      "text/plain": [
       "array([0.08405277, 0.13525017])"
      ]
     },
     "execution_count": 54,
     "metadata": {},
     "output_type": "execute_result"
    }
   ],
   "source": [
    "α=alg.solve(G,d)\n",
    "α"
   ]
  },
  {
   "cell_type": "code",
   "execution_count": 55,
   "metadata": {},
   "outputs": [
    {
     "data": {
      "text/plain": [
       "0.6069770887663212"
      ]
     },
     "execution_count": 55,
     "metadata": {},
     "output_type": "execute_result"
    }
   ],
   "source": [
    "dy=y-t/(α[0]*t+α[1])    #残差数列\n",
    "δ2=np.sum(dy**2) #残差平方和\n",
    "δ2"
   ]
  },
  {
   "cell_type": "code",
   "execution_count": 56,
   "metadata": {},
   "outputs": [
    {
     "data": {
      "image/png": "[encoded data removed]",
      "text/plain": [
       "<Figure size 432x288 with 1 Axes>"
      ]
     },
     "metadata": {
      "needs_background": "light"
     },
     "output_type": "display_data"
    }
   ],
   "source": [
    "plt.plot(t,y, '*',label='ti-yi')  # 原函数散点\n",
    "X=np.arange(t[0]-0.1,t[-1]+0.1,0.01)\n",
    "Y=1/(α[0]+α[1]/X)\n",
    "plt.plot(X, Y, '-',label='φ(t)')  # 拟合函数φ(x)\n",
    "plt.xlabel('t')  # 给 x 轴添加坐标轴信息\n",
    "plt.ylabel('y')  # 给 y 轴添加坐标轴信息\n",
    "plt.legend()\n",
    "plt.title('fitting for problem 4.19')  # 添加图片标题\n",
    "plt.show()"
   ]
  },
  {
   "cell_type": "code",
   "execution_count": 69,
   "metadata": {},
   "outputs": [],
   "source": [
    "yi2=y**2\n",
    "times=0\n",
    "wi=y**4\n",
    "last=np.zeros(wi.shape)\n",
    "α=np.array([0.08374324, 0.13830808])"
   ]
  },
  {
   "cell_type": "code",
   "execution_count": 70,
   "metadata": {},
   "outputs": [
    {
     "name": "stdout",
     "output_type": "stream",
     "text": [
      "0 0.5903704320664918 [0.08374324 0.13830808]\n",
      "1 0.5929414595505227 [0.08384674 0.13741954]\n",
      "2 0.5913234561882937 [0.08380182 0.13788046]\n",
      "3 0.5911156510967894 [0.08379647 0.1379478 ]\n",
      "4 0.5910835383717132 [0.08379589 0.13795792]\n",
      "5 0.5910783307367817 [0.08379584 0.13795945]\n",
      "6 0.5910774621090791 [0.08379584 0.13795969]\n",
      "7 0.5910773134277993 [0.08379585 0.13795973]\n",
      "8 0.5910772873303761 [0.08379585 0.13795973]\n",
      "9 0.59107728263991 [0.08379585 0.13795973]\n",
      "10 0.5910772817787361 [0.08379585 0.13795973]\n",
      "11 0.5910772816176852 [0.08379585 0.13795973]\n",
      "12 0.5910772815871012 [0.08379585 0.13795973]\n",
      "13 0.5910772815812202 [0.08379585 0.13795973]\n",
      "14 0.5910772815800799 [0.08379585 0.13795973]\n",
      "15 0.5910772815798562 [0.08379585 0.13795973]\n",
      "16 0.5910772815798121 [0.08379585 0.13795973]\n",
      "17 0.5910772815798037 [0.08379585 0.13795973]\n",
      "18 0.5910772815798018 [0.08379585 0.13795973]\n",
      "19 0.5910772815798001 [0.08379585 0.13795973]\n"
     ]
    },
    {
     "data": {
      "text/plain": [
       "array([0.08379585, 0.13795973])"
      ]
     },
     "execution_count": 70,
     "metadata": {},
     "output_type": "execute_result"
    }
   ],
   "source": [
    "#用迭代法求最优α\n",
    "λ=0.8\n",
    "dy=y-1/(α[0]+α[1]/t)    #残差数列\n",
    "δ2=np.sum(dy**2) #残差平方和\n",
    "print(times,δ2,α)\n",
    "while times <1000 and np.sum((last - wi) ** 2) > 1e-18:\n",
    "    times+=1\n",
    "    last = wi\n",
    "    φi = 1 / (α[0] + α[1] * xi)\n",
    "    wi = (1-λ)*last + λ*yi2 * (φi ** 2)\n",
    "    g11 = wi.sum()\n",
    "    g12 = wi.dot(xi)\n",
    "    g22 = wi.dot(xi * xi)\n",
    "    G = np.array([[g11, g12], [g12, g22]])\n",
    "    d = np.array([wi.dot(zi), wi.dot(zi * xi)])\n",
    "    α = alg.solve(G, d)\n",
    "    dy=y-1/(α[0]+α[1]/t)    #残差数列\n",
    "    δ2=np.sum(dy**2) #残差平方和\n",
    "    print(times,δ2,α)\n",
    "α"
   ]
  },
  {
   "cell_type": "code",
   "execution_count": 23,
   "metadata": {},
   "outputs": [],
   "source": [
    "# #用迭代法求最优α\n",
    "# while times <1000 and np.sum((last - wi) ** 2) > 1e-18:\n",
    "#     times+=1\n",
    "#     last = wi\n",
    "#     φi = 1 / (α[0] + α[1] * xi)\n",
    "#     wi = (last + yi2 * (φi ** 2)) / 2\n",
    "# #     wi = yi2 * (φi ** 2)\n",
    "#     g11 = wi.sum()\n",
    "#     g12 = wi.dot(xi)\n",
    "#     g22 = wi.dot(xi * xi)\n",
    "#     G = np.array([[g11, g12], [g12, g22]])\n",
    "#     d = np.array([wi.dot(zi), wi.dot(zi * xi)])\n",
    "#     α = alg.solve(G, d)\n",
    "#     dy=y-1/(α[0]+α[1]/t)    #残差数列\n",
    "#     δ2=np.sum(dy**2) #残差平方和\n",
    "#     print(times,δ2,α)\n",
    "# α"
   ]
  },
  {
   "cell_type": "code",
   "execution_count": null,
   "metadata": {},
   "outputs": [],
   "source": []
  }
 ],
 "metadata": {
  "kernelspec": {
   "display_name": "Python 3",
   "language": "python",
   "name": "python3"
  },
  "language_info": {
   "codemirror_mode": {
    "name": "ipython",
    "version": 3
   },
   "file_extension": ".py",
   "mimetype": "text/x-python",
   "name": "python",
   "nbconvert_exporter": "python",
   "pygments_lexer": "ipython3",
   "version": "3.7.6"
  }
 },
 "nbformat": 4,
 "nbformat_minor": 4
}
