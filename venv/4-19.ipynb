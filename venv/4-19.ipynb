{
 "cells": [
  {
   "cell_type": "code",
   "execution_count": 3,
   "metadata": {},
   "outputs": [],
   "source": [
    "import numpy as np\n",
    "import scipy as sp\n",
    "alg=np.linalg\n",
    "import matplotlib.pyplot as plt"
   ]
  },
  {
   "cell_type": "code",
   "execution_count": 4,
   "metadata": {},
   "outputs": [
    {
     "name": "stdout",
     "output_type": "stream",
     "text": [
      "[4.00 , 6.41 , 8.01 , 8.79 , 9.53 , 9.86 , 10.33 , 10.42 , 10.53 , 10.61]\n"
     ]
    }
   ],
   "source": [
    "t=np.array([1,2,3,4,6,8,10,12,14,16])\n",
    "y=np.array([4,6.41,8.01,8.79,9.53,9.86,10.33,10.42,10.53,10.61])\n",
    "print(\"[%s]\"%(' , '.join([\"%.2f\"%(a) for a in y])))"
   ]
  },
  {
   "cell_type": "code",
   "execution_count": 13,
   "metadata": {},
   "outputs": [],
   "source": [
    "xi=1/t\n",
    "zi=1/y\n",
    "wi=y**4"
   ]
  },
  {
   "cell_type": "code",
   "execution_count": 16,
   "metadata": {},
   "outputs": [
    {
     "data": {
      "text/plain": [
       "array([[77873.25370279, 10312.21525204],\n",
       "       [10312.21525204,  2193.32709379]])"
      ]
     },
     "execution_count": 16,
     "metadata": {},
     "output_type": "execute_result"
    }
   ],
   "source": [
    "g11=wi.sum()\n",
    "g12=wi.dot(xi)\n",
    "g22=wi.dot(xi*xi)\n",
    "G=np.array([[g11,g12],[g12,g22]])\n",
    "G"
   ]
  },
  {
   "cell_type": "code",
   "execution_count": 23,
   "metadata": {},
   "outputs": [
    {
     "data": {
      "text/plain": [
       "array([7940.191877  , 1163.41815886])"
      ]
     },
     "execution_count": 23,
     "metadata": {},
     "output_type": "execute_result"
    }
   ],
   "source": [
    "d=np.array([wi.dot(zi),wi.dot(zi*xi)])\n",
    "d"
   ]
  },
  {
   "cell_type": "code",
   "execution_count": 24,
   "metadata": {},
   "outputs": [
    {
     "data": {
      "text/plain": [
       "array([0.08405277, 0.13525017])"
      ]
     },
     "execution_count": 24,
     "metadata": {},
     "output_type": "execute_result"
    }
   ],
   "source": [
    "α=alg.solve(G,d)\n",
    "α"
   ]
  },
  {
   "cell_type": "code",
   "execution_count": 26,
   "metadata": {},
   "outputs": [
    {
     "data": {
      "text/plain": [
       "0.6069770887663211"
      ]
     },
     "execution_count": 26,
     "metadata": {},
     "output_type": "execute_result"
    }
   ],
   "source": [
    "dy=y-1/(α[0]+α[1]/t)    #残差数列\n",
    "δ2=np.sum(dy**2) #残差平方和\n",
    "δ2"
   ]
  },
  {
   "cell_type": "code",
   "execution_count": 25,
   "metadata": {},
   "outputs": [
    {
     "data": {
      "image/png": "[encoded data removed]",
      "text/plain": [
       "<Figure size 432x288 with 1 Axes>"
      ]
     },
     "metadata": {
      "needs_background": "light"
     },
     "output_type": "display_data"
    }
   ],
   "source": [
    "plt.plot(t,y, '*',label='ti-yi')  # 原函数散点\n",
    "X=np.arange(t[0]-0.1,t[-1]+0.1,0.01)\n",
    "Y=1/(α[0]+α[1]/X)\n",
    "plt.plot(X, Y, '-',label='φ(x)')  # 拟合函数φ(x)\n",
    "plt.xlabel('x')  # 给 x 轴添加坐标轴信息\n",
    "plt.ylabel('y')  # 给 y 轴添加坐标轴信息\n",
    "plt.legend()\n",
    "plt.title('fitting for problem 4.19')  # 添加图片标题\n",
    "plt.show()"
   ]
  }
 ],
 "metadata": {
  "kernelspec": {
   "display_name": "Python 3",
   "language": "python",
   "name": "python3"
  },
  "language_info": {
   "codemirror_mode": {
    "name": "ipython",
    "version": 3
   },
   "file_extension": ".py",
   "mimetype": "text/x-python",
   "name": "python",
   "nbconvert_exporter": "python",
   "pygments_lexer": "ipython3",
   "version": "3.8.3"
  }
 },
 "nbformat": 4,
 "nbformat_minor": 4
}
